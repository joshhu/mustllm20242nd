{
 "cells": [
  {
   "cell_type": "markdown",
   "metadata": {},
   "source": [
    "## 載入沒有經過Instruction tunning的模型\n",
    "* 這個kernel是用來展示如何載入沒有經過Instruction tunning的模型，並且進行文言文白話文之間的翻譯"
   ]
  },
  {
   "cell_type": "markdown",
   "metadata": {},
   "source": [
    "### 如果在Colab執行先安裝套件"
   ]
  },
  {
   "cell_type": "code",
   "execution_count": null,
   "metadata": {},
   "outputs": [],
   "source": [
    "# ! pip install transformers datasets torch bitsandbytes peft accelerate nvidia-ml-py3 wandb trl flash-attn"
   ]
  },
  {
   "cell_type": "code",
   "execution_count": 1,
   "metadata": {},
   "outputs": [],
   "source": [
    "from transformers import pipeline"
   ]
  },
  {
   "cell_type": "code",
   "execution_count": null,
   "metadata": {},
   "outputs": [],
   "source": [
    "pipe = pipeline(\"text-generation\", model=\"zake7749/gemma-2-2b-it-chinese-kyara-dpo\", device_map=\"auto\")\n",
    "pipe(\"將下面翻譯成文言文：今天天氣很好，海邊的風景也很美。\")"
   ]
  },
  {
   "cell_type": "code",
   "execution_count": null,
   "metadata": {},
   "outputs": [],
   "source": [
    "pipe2 = pipeline(\"text-generation\", model=\"huchiahsi/merged_model\", device_map=\"auto\")\n",
    "pipe2(\"今天天氣很好，海邊的風景也很美，上面這句話翻譯成文言文是：\")"
   ]
  },
  {
   "cell_type": "markdown",
   "metadata": {},
   "source": [
    "## 沒有使用量化載入Adapter的方法\n",
    "* 引入套件，包括正常的transformers套件，以及adapter的套件\n",
    "* 指定要載入模型的名稱，都在huggingface上了，包括基礎模型和Adapter\n",
    "* 載入模型，這裡使用的是以gemma-2-it訓練的繁體中文模型，比較適合繁體中文\n",
    "* 載入之前訓練的Adapter，這裡使用的是文言文到白話文的Adapter，已經上傳到huggingface的hub上\n",
    "* 指定`tokenizer`使用的模型\n",
    "* 最後將模型放入`device`中，這裡使用的是GPU"
   ]
  },
  {
   "cell_type": "code",
   "execution_count": null,
   "metadata": {},
   "outputs": [],
   "source": [
    "import torch\n",
    "from transformers import AutoTokenizer, AutoModelForCausalLM\n",
    "from peft import PeftModel\n",
    "\n",
    "base_model = \"zake7749/gemma-2-2b-it-chinese-kyara-dpo\"\n",
    "peft_model = \"huchiahsi/peft-model-repo\" \n",
    "model = AutoModelForCausalLM.from_pretrained(base_model,\n",
    "                                                device_map=\"auto\")\n",
    "model = PeftModel.from_pretrained(model, peft_model)\n",
    "tokenizer = AutoTokenizer.from_pretrained(base_model)\n",
    "model = model.to(\"cuda\")"
   ]
  },
  {
   "cell_type": "code",
   "execution_count": null,
   "metadata": {},
   "outputs": [],
   "source": [
    "from transformers import AutoModelForCausalLM, AutoTokenizer\n",
    "from peft import PeftModel\n",
    "\n",
    "base_model = \"mistralai/Mistral-7B-v0.1\"\n",
    "adapter_model = \"dfurman/Mistral-7B-Instruct-v0.2\"\n",
    "\n",
    "model = AutoModelForCausalLM.from_pretrained(base_model, \n",
    "                                             device_map=\"auto\",                                             \n",
    "                                             )\n",
    "model = PeftModel.from_pretrained(model, adapter_model)\n",
    "tokenizer = AutoTokenizer.from_pretrained(base_model)\n",
    "\n",
    "model.eval()"
   ]
  },
  {
   "cell_type": "markdown",
   "metadata": {},
   "source": [
    "## 使用量化之後，載入Adapter的方式\n",
    "* 引入套件，這次要包括量化用的套件BitsAndBytes的Config\n",
    "* 設定量化的參數，和訓練時要一模一樣\n",
    "    * `load_in_4bit=True`在載入模型時將模型量化為 4 位元\n",
    "    * `bnb_4bit_use_double_quant=True`使用嵌套量化方案來量化已經量化的權重\n",
    "    * `bnb_4bit_quant_type=\"nf4\"`為對從常態分佈初始化的權重使用特殊的 4 位元資料類型\n",
    "    * `bnb_4bit_compute_dtype=torch.bfloat16`使用 bfloat16 來加快計算速度\n",
    "* 此時載入基礎模型時需要設定`config`\n",
    "* 後面一樣將Adapter載入，並且指定`tokenizer`和`device`"
   ]
  },
  {
   "cell_type": "code",
   "execution_count": null,
   "metadata": {},
   "outputs": [],
   "source": [
    "import torch\n",
    "from transformers import AutoTokenizer, AutoModelForCausalLM, BitsAndBytesConfig\n",
    "from peft import PeftModel\n",
    "\n",
    "bnb_config = BitsAndBytesConfig(\n",
    "    load_in_4bit=True,\n",
    "    bnb_4bit_use_double_quant=True,\n",
    "    bnb_4bit_quant_type=\"nf4\",\n",
    "    bnb_4bit_compute_dtype=torch.bfloat16\n",
    ")\n",
    "\n",
    "base_model = \"zake7749/gemma-2-2b-it-chinese-kyara-dpo\"\n",
    "peft_model = \"huchiahsi/peft-model-repo\" \n",
    "model = AutoModelForCausalLM.from_pretrained(base_model,\n",
    "                                                config=bnb_config,\n",
    "                                                device_map=\"auto\")\n",
    "model = PeftModel.from_pretrained(model, peft_model)\n",
    "tokenizer = AutoTokenizer.from_pretrained(base_model)\n",
    "model = model.to(\"cuda\")"
   ]
  },
  {
   "cell_type": "code",
   "execution_count": null,
   "metadata": {},
   "outputs": [],
   "source": [
    "from transformers import AutoModelForCausalLM, AutoTokenizer, BitsAndBytesConfig\n",
    "from peft import PeftModel, PeftConfig\n",
    "import torch\n",
    "\n",
    "bnb_config = BitsAndBytesConfig(\n",
    "    load_in_4bit=True,\n",
    "    bnb_4bit_use_double_quant=True,\n",
    "    bnb_4bit_quant_type=\"nf4\",\n",
    "    bnb_4bit_compute_dtype=torch.bfloat16\n",
    ")\n",
    "\n",
    "base_model = \"mistralai/Mistral-7B-v0.1\"\n",
    "adapter_model = \"dfurman/Mistral-7B-Instruct-v0.2\"\n",
    "\n",
    "model = AutoModelForCausalLM.from_pretrained(base_model, config=bnb_config, device_map=\"auto\")\n",
    "model = PeftModel.from_pretrained(model, adapter_model)\n",
    "tokenizer = AutoTokenizer.from_pretrained(base_model)\n",
    "\n",
    "model.eval()"
   ]
  },
  {
   "cell_type": "markdown",
   "metadata": {},
   "source": [
    "### 以下為截圖\n",
    "![alt text](image.png)"
   ]
  },
  {
   "cell_type": "code",
   "execution_count": null,
   "metadata": {},
   "outputs": [],
   "source": [
    "import torch\n",
    "inputs = tokenizer(\"台北市很漂亮，文言文怎麼說？\", return_tensors=\"pt\")\n",
    "\n",
    "with torch.no_grad():\n",
    "    outputs = model.generate(input_ids=inputs[\"input_ids\"].to(\"cuda\"), max_new_tokens=222)\n",
    "    print(tokenizer.batch_decode(outputs.detach().cpu().numpy(), skip_special_tokens=True)[0])"
   ]
  }
 ],
 "metadata": {
  "kernelspec": {
   "display_name": "test",
   "language": "python",
   "name": "python3"
  },
  "language_info": {
   "codemirror_mode": {
    "name": "ipython",
    "version": 3
   },
   "file_extension": ".py",
   "mimetype": "text/x-python",
   "name": "python",
   "nbconvert_exporter": "python",
   "pygments_lexer": "ipython3",
   "version": "3.11.5"
  }
 },
 "nbformat": 4,
 "nbformat_minor": 2
}
